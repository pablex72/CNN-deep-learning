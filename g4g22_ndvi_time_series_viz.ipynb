{
  "nbformat": 4,
  "nbformat_minor": 0,
  "metadata": {
    "colab": {
      "provenance": [],
      "include_colab_link": true
    },
    "kernelspec": {
      "name": "python3",
      "display_name": "Python 3"
    },
    "language_info": {
      "name": "python"
    }
  },
  "cells": [
    {
      "cell_type": "markdown",
      "metadata": {
        "id": "view-in-github",
        "colab_type": "text"
      },
      "source": [
        "<a href=\"https://colab.research.google.com/github/pablex72/CNN-deep-learning/blob/main/g4g22_ndvi_time_series_viz.ipynb\" target=\"_parent\"><img src=\"https://colab.research.google.com/assets/colab-badge.svg\" alt=\"Open In Colab\"/></a>"
      ]
    },
    {
      "cell_type": "markdown",
      "source": [
        "Earth Engine setup"
      ],
      "metadata": {
        "id": "CCBMoKLV8sFp"
      }
    },
    {
      "cell_type": "code",
      "execution_count": 1,
      "metadata": {
        "id": "I_zWJ1bEimTm",
        "outputId": "a96ba1f5-1191-4edb-9493-eee903f145b0",
        "colab": {
          "base_uri": "https://localhost:8080/"
        }
      },
      "outputs": [
        {
          "output_type": "stream",
          "name": "stdout",
          "text": [
            "To authorize access needed by Earth Engine, open the following URL in a web browser and follow the instructions. If the web browser does not start automatically, please manually browse the URL below.\n",
            "\n",
            "    https://code.earthengine.google.com/client-auth?scopes=https%3A//www.googleapis.com/auth/earthengine%20https%3A//www.googleapis.com/auth/devstorage.full_control&request_id=SrOp1FRgHX3bYiKMMvJwD0gouisdp8T_kKXzPg3V9C4&tc=P0wjgmoAls47WoMQ5m_Ja9Vi4KpV83o-XWk4zwYc-R4&cc=qfBKht8p4_U_XAy2XMQWTRhmaI0KR1fnQmnKha6gJMY\n",
            "\n",
            "The authorization workflow will generate a code, which you should paste in the box below.\n",
            "Enter verification code: 4/1AfJohXl6wzfVlvECLJ-2IjJwgpwaUKN0utPkqXZDowNXm06bO77YNF6hUEM\n",
            "\n",
            "Successfully saved authorization token.\n"
          ]
        }
      ],
      "source": [
        "import ee\n",
        "ee.Authenticate()\n",
        "ee.Initialize()"
      ]
    },
    {
      "cell_type": "markdown",
      "source": [
        "Import a tool to view thumbnail images"
      ],
      "metadata": {
        "id": "-WAB3ztm8wfe"
      }
    },
    {
      "cell_type": "code",
      "source": [
        "from IPython.display import Image"
      ],
      "metadata": {
        "id": "Li-GGlvMj7dN"
      },
      "execution_count": 2,
      "outputs": []
    },
    {
      "cell_type": "markdown",
      "source": [
        "Get an image collection"
      ],
      "metadata": {
        "id": "LZE-Pddyucjk"
      }
    },
    {
      "cell_type": "code",
      "source": [
        "col = (ee.ImageCollection('MODIS/006/MOD13A2')\n",
        "    .select('NDVI')\n",
        "    .filterDate('2021-01-01', '2022-01-01'))"
      ],
      "metadata": {
        "id": "GeeORvtRjlBh"
      },
      "execution_count": 3,
      "outputs": []
    },
    {
      "cell_type": "markdown",
      "source": [
        "Animate to see what we're working with"
      ],
      "metadata": {
        "id": "PEN4VK3BugHR"
      }
    },
    {
      "cell_type": "code",
      "source": [
        "Image(url=col.getVideoThumbURL({\n",
        "    'dimensions': 300,\n",
        "    'region': ee.Geometry.BBox(-180, -89, 180, 89)\n",
        "}))"
      ],
      "metadata": {
        "id": "ttHJEYvtj-c_",
        "outputId": "46feb09b-2e75-4b1e-8178-0b82b00f0de9",
        "colab": {
          "base_uri": "https://localhost:8080/",
          "height": 170
        }
      },
      "execution_count": 4,
      "outputs": [
        {
          "output_type": "execute_result",
          "data": {
            "text/html": [
              "<img src=\"https://earthengine.googleapis.com/v1/projects/earthengine-legacy/videoThumbnails/934b1acbf0204c8c95c07774a0f255a8-184f0f7e844badd978c8c09fc1017653:getPixels\"/>"
            ],
            "text/plain": [
              "<IPython.core.display.Image object>"
            ]
          },
          "metadata": {},
          "execution_count": 4
        }
      ]
    },
    {
      "cell_type": "markdown",
      "source": [
        "Hard to tell, data are outside of 8-bit range, get some stats for scaling"
      ],
      "metadata": {
        "id": "liFGmn40ul6Y"
      }
    },
    {
      "cell_type": "code",
      "source": [
        "minMax = col.filterDate('2021-07-01', '2021-08-01').first().reduceRegion(**{\n",
        "    'reducer': ee.Reducer.percentile([1, 99]),\n",
        "    'scale': 10e3,\n",
        "    'geometry': ee.Geometry.BBox(-180, -89, 180, 89)\n",
        "})\n",
        "print(minMax.getInfo())"
      ],
      "metadata": {
        "id": "Db0-w7Kqk-EU",
        "outputId": "495f5825-925d-4a63-a852-f48128da8140",
        "colab": {
          "base_uri": "https://localhost:8080/"
        }
      },
      "execution_count": 5,
      "outputs": [
        {
          "output_type": "stream",
          "name": "stdout",
          "text": [
            "{'NDVI_p1': -350.2966591136818, 'NDVI_p99': 8925.397723060667}\n"
          ]
        }
      ]
    },
    {
      "cell_type": "markdown",
      "source": [
        "Alright! now we can see some patterns"
      ],
      "metadata": {
        "id": "rfXrtsZXu4uY"
      }
    },
    {
      "cell_type": "code",
      "source": [
        "Image(url=col.getVideoThumbURL({\n",
        "    'dimensions': 300,\n",
        "    'region': ee.Geometry.BBox(-180, -89, 180, 89),\n",
        "    'min': 0,\n",
        "    'max': 9000\n",
        "}))"
      ],
      "metadata": {
        "id": "nVzP2VvnodRj",
        "outputId": "9f1bc8b0-ec07-459f-f75d-1d2be707d14e",
        "colab": {
          "base_uri": "https://localhost:8080/",
          "height": 170
        }
      },
      "execution_count": 6,
      "outputs": [
        {
          "output_type": "execute_result",
          "data": {
            "text/html": [
              "<img src=\"https://earthengine.googleapis.com/v1/projects/earthengine-legacy/videoThumbnails/57841fb3c368b6e562f78a4b268f47c6-7d8c6775e184e6ea8047a53680581353:getPixels\"/>"
            ],
            "text/plain": [
              "<IPython.core.display.Image object>"
            ]
          },
          "metadata": {},
          "execution_count": 6
        }
      ]
    },
    {
      "cell_type": "markdown",
      "source": [
        "A little hard to interpret grayscale, add a self-evident color palette"
      ],
      "metadata": {
        "id": "Gl9t1nvEvAom"
      }
    },
    {
      "cell_type": "code",
      "source": [
        "Image(url=col.getVideoThumbURL({\n",
        "    'dimensions': 300,\n",
        "    'region': ee.Geometry.BBox(-180, -89, 180, 89),\n",
        "    'min': 0,\n",
        "    'max': 9000,\n",
        "    'palette': ['white', 'green']\n",
        "}))"
      ],
      "metadata": {
        "id": "dU3Kvb5Lor3w",
        "outputId": "935be705-32fa-450d-9fa1-5609907c287a",
        "colab": {
          "base_uri": "https://localhost:8080/",
          "height": 170
        }
      },
      "execution_count": 7,
      "outputs": [
        {
          "output_type": "execute_result",
          "data": {
            "text/html": [
              "<img src=\"https://earthengine.googleapis.com/v1/projects/earthengine-legacy/videoThumbnails/53e13d6b942fdbc2d739b6c06eae1c6d-72f953e7e7f3f766c06f36abbdacb963:getPixels\"/>"
            ],
            "text/plain": [
              "<IPython.core.display.Image object>"
            ]
          },
          "metadata": {},
          "execution_count": 7
        }
      ]
    },
    {
      "cell_type": "markdown",
      "source": [
        "Good, that's easier to interpret. Not a big fan of the MODIS projection, let's try with World Equidistant Cylindrical"
      ],
      "metadata": {
        "id": "PodqmUkdvMZB"
      }
    },
    {
      "cell_type": "code",
      "source": [
        "Image(url=col.getVideoThumbURL({\n",
        "    'dimensions': 300,\n",
        "    'region': ee.Geometry.BBox(-180, -89, 180, 89),\n",
        "    'min': 0,\n",
        "    'max': 9000,\n",
        "    'palette': ['white', 'green'],\n",
        "    'crs': 'EPSG:4087'\n",
        "}))"
      ],
      "metadata": {
        "id": "chlXW48kpI54",
        "outputId": "5628e41e-c4f7-4bb2-c188-5a97c6760133",
        "colab": {
          "base_uri": "https://localhost:8080/",
          "height": 170
        }
      },
      "execution_count": 8,
      "outputs": [
        {
          "output_type": "execute_result",
          "data": {
            "text/html": [
              "<img src=\"https://earthengine.googleapis.com/v1/projects/earthengine-legacy/videoThumbnails/1628c2f310bf0749fe7b56d84367b2f9-aeccf0691c2c3d5ae71ff8d0a77789e1:getPixels\"/>"
            ],
            "text/plain": [
              "<IPython.core.display.Image object>"
            ]
          },
          "metadata": {},
          "execution_count": 8
        }
      ]
    },
    {
      "cell_type": "markdown",
      "source": [
        "Let's focus on Africa"
      ],
      "metadata": {
        "id": "ab9yhbucwkR-"
      }
    },
    {
      "cell_type": "code",
      "source": [
        "Image(url=col.getVideoThumbURL({\n",
        "    'dimensions': 300,\n",
        "    'region': ee.Geometry.BBox(-18.7, -36.2, 52.2, 38.1),\n",
        "    'min': 0,\n",
        "    'max': 9000,\n",
        "    'palette': ['white', 'green'],\n",
        "    'crs': 'EPSG:4087'\n",
        "}))"
      ],
      "metadata": {
        "id": "4MrfvDSvxBr0",
        "outputId": "33fbf7cb-27f2-4e83-bb75-ddd58d2772f8",
        "colab": {
          "base_uri": "https://localhost:8080/",
          "height": 321
        }
      },
      "execution_count": 9,
      "outputs": [
        {
          "output_type": "execute_result",
          "data": {
            "text/html": [
              "<img src=\"https://earthengine.googleapis.com/v1/projects/earthengine-legacy/videoThumbnails/8d85ef676d68750ef0bc834a2f3dfb06-180d7180e03b639aa6fa00f441a2f95b:getPixels\"/>"
            ],
            "text/plain": [
              "<IPython.core.display.Image object>"
            ]
          },
          "metadata": {},
          "execution_count": 9
        }
      ]
    },
    {
      "cell_type": "markdown",
      "source": [
        "Now we're on to something, make bigger"
      ],
      "metadata": {
        "id": "frIYMs51zljv"
      }
    },
    {
      "cell_type": "code",
      "source": [
        "Image(url=col.getVideoThumbURL({\n",
        "    'dimensions': 500,\n",
        "    'region': ee.Geometry.BBox(-18.7, -36.2, 52.2, 38.1),\n",
        "    'min': 0,\n",
        "    'max': 9000,\n",
        "    'palette': ['white', 'green'],\n",
        "    'crs': 'EPSG:4087'\n",
        "}))"
      ],
      "metadata": {
        "id": "eKBKC_CszlE1",
        "outputId": "f2f0f1a2-3945-4040-b09c-e2f7a9f5f71d",
        "colab": {
          "base_uri": "https://localhost:8080/",
          "height": 521
        }
      },
      "execution_count": 10,
      "outputs": [
        {
          "output_type": "execute_result",
          "data": {
            "text/html": [
              "<img src=\"https://earthengine.googleapis.com/v1/projects/earthengine-legacy/videoThumbnails/40e7a0532888d1f2e516be99b3a7b4d1-a08735f98b00be80bff132dd3e3509f9:getPixels\"/>"
            ],
            "text/plain": [
              "<IPython.core.display.Image object>"
            ]
          },
          "metadata": {},
          "execution_count": 10
        }
      ]
    },
    {
      "cell_type": "markdown",
      "source": [
        "What a neat intra-annual pattern, let's increase the frame rate"
      ],
      "metadata": {
        "id": "DLLtGruHz1WW"
      }
    },
    {
      "cell_type": "code",
      "source": [
        "Image(url=col.getVideoThumbURL({\n",
        "    'dimensions': 500,\n",
        "    'region': ee.Geometry.BBox(-18.7, -36.2, 52.2, 38.1),\n",
        "    'min': 0,\n",
        "    'max': 9000,\n",
        "    'palette': ['white', 'green'],\n",
        "    'crs': 'EPSG:4087',\n",
        "    'framesPerSecond': 12\n",
        "}))"
      ],
      "metadata": {
        "id": "6n6tzJr5zujH",
        "outputId": "6f130975-ca29-441e-ce24-6e60f0e83b3e",
        "colab": {
          "base_uri": "https://localhost:8080/",
          "height": 521
        }
      },
      "execution_count": 11,
      "outputs": [
        {
          "output_type": "execute_result",
          "data": {
            "text/html": [
              "<img src=\"https://earthengine.googleapis.com/v1/projects/earthengine-legacy/videoThumbnails/b9eb31c9b37a71a85ce1917e192d61c7-e5dda98666f0df5f2337a56b02723adb:getPixels\"/>"
            ],
            "text/plain": [
              "<IPython.core.display.Image object>"
            ]
          },
          "metadata": {},
          "execution_count": 11
        }
      ]
    },
    {
      "cell_type": "markdown",
      "source": [
        "We can do a better palette"
      ],
      "metadata": {
        "id": "n9Nw6Hn80FaA"
      }
    },
    {
      "cell_type": "code",
      "source": [
        "Image(url=col.getVideoThumbURL({\n",
        "    'dimensions': 500,\n",
        "    'region': ee.Geometry.BBox(-18.7, -36.2, 52.2, 38.1),\n",
        "    'min': 0,\n",
        "    'max': 9000,\n",
        "    'palette': [\n",
        "        'FFFFFF', 'CE7E45', 'DF923D', 'F1B555', 'FCD163', '99B718', '74A901',\n",
        "        '66A000', '529400', '3E8601', '207401', '056201', '004C00', '023B01',\n",
        "        '012E01', '011D01', '011301'\n",
        "    ],\n",
        "    'crs': 'EPSG:4087',\n",
        "    'framesPerSecond': 12\n",
        "}))"
      ],
      "metadata": {
        "id": "89Pc1HjN0KHu",
        "outputId": "bd9848cb-5597-48ee-ed91-bc285ca7dd58",
        "colab": {
          "base_uri": "https://localhost:8080/",
          "height": 521
        }
      },
      "execution_count": 12,
      "outputs": [
        {
          "output_type": "execute_result",
          "data": {
            "text/html": [
              "<img src=\"https://earthengine.googleapis.com/v1/projects/earthengine-legacy/videoThumbnails/66dbdbbabdd73bcebd793fad33e3ad77-93261ce41a2d523db3cc3be4e362f9fb:getPixels\"/>"
            ],
            "text/plain": [
              "<IPython.core.display.Image object>"
            ]
          },
          "metadata": {},
          "execution_count": 12
        }
      ]
    },
    {
      "cell_type": "markdown",
      "source": [
        "Awesome! but there is a lot of noise, probably from clouds/masking, these are 16-day composites. Let's create median inter-annual composites for each 16-day period to clean it up."
      ],
      "metadata": {
        "id": "yP3-NN-80ajD"
      }
    },
    {
      "cell_type": "markdown",
      "source": [
        "First step is to add a property to all images that we can join by - we can use \"day of year\"."
      ],
      "metadata": {
        "id": "Hm-nRVpD1FUz"
      }
    },
    {
      "cell_type": "code",
      "source": [
        "full_col = ee.ImageCollection('MODIS/006/MOD13A2').select('NDVI')\n",
        "\n",
        "def add_doy_prop(img):\n",
        "  doy = ee.Date(img.get('system:time_start')).getRelative('day', 'year');\n",
        "  return img.set('doy', doy)\n",
        "\n",
        "full_col = full_col.map(add_doy_prop)"
      ],
      "metadata": {
        "id": "LXRWzPdQ1Oej"
      },
      "execution_count": 13,
      "outputs": []
    },
    {
      "cell_type": "markdown",
      "source": [
        "Perform a \"saveAll\" join to group all images from the same day of year into a list"
      ],
      "metadata": {
        "id": "YP8oXP7t2EaU"
      }
    },
    {
      "cell_type": "code",
      "source": [
        "distinct_doy = full_col.filterDate('2021-01-01', '2022-01-01')\n",
        "filter = ee.Filter.equals(**{'leftField': 'doy', 'rightField': 'doy'})\n",
        "join = ee.Join.saveAll('doy_matches')\n",
        "join_col = ee.Join.saveAll('doy_matches').apply(distinct_doy, full_col, filter)"
      ],
      "metadata": {
        "id": "TEbjWeD12QnF"
      },
      "execution_count": 14,
      "outputs": []
    },
    {
      "cell_type": "markdown",
      "source": [
        "Here is what a list of same-day images looks like"
      ],
      "metadata": {
        "id": "BPVXcKD94Kvy"
      }
    },
    {
      "cell_type": "code",
      "source": [
        "img_list = join_col.first().get('doy_matches').getInfo()\n",
        "for img in img_list:\n",
        "  print(img['id'])"
      ],
      "metadata": {
        "id": "j4RecUGU4QeN",
        "outputId": "e7efba0a-a210-42b0-f4e4-275fc5bd06b8",
        "colab": {
          "base_uri": "https://localhost:8080/"
        }
      },
      "execution_count": 15,
      "outputs": [
        {
          "output_type": "stream",
          "name": "stdout",
          "text": [
            "MODIS/006/MOD13A2/2001_01_01\n",
            "MODIS/006/MOD13A2/2002_01_01\n",
            "MODIS/006/MOD13A2/2003_01_01\n",
            "MODIS/006/MOD13A2/2004_01_01\n",
            "MODIS/006/MOD13A2/2005_01_01\n",
            "MODIS/006/MOD13A2/2006_01_01\n",
            "MODIS/006/MOD13A2/2007_01_01\n",
            "MODIS/006/MOD13A2/2008_01_01\n",
            "MODIS/006/MOD13A2/2009_01_01\n",
            "MODIS/006/MOD13A2/2010_01_01\n",
            "MODIS/006/MOD13A2/2011_01_01\n",
            "MODIS/006/MOD13A2/2012_01_01\n",
            "MODIS/006/MOD13A2/2013_01_01\n",
            "MODIS/006/MOD13A2/2014_01_01\n",
            "MODIS/006/MOD13A2/2015_01_01\n",
            "MODIS/006/MOD13A2/2016_01_01\n",
            "MODIS/006/MOD13A2/2017_01_01\n",
            "MODIS/006/MOD13A2/2018_01_01\n",
            "MODIS/006/MOD13A2/2019_01_01\n",
            "MODIS/006/MOD13A2/2020_01_01\n",
            "MODIS/006/MOD13A2/2021_01_01\n",
            "MODIS/006/MOD13A2/2022_01_01\n",
            "MODIS/006/MOD13A2/2023_01_01\n"
          ]
        }
      ]
    },
    {
      "cell_type": "markdown",
      "source": [
        "We need to turn these lists into image collections and compute the per-pixel median"
      ],
      "metadata": {
        "id": "TMuTmptI5Zfb"
      }
    },
    {
      "cell_type": "code",
      "source": [
        "def median_composite(feature):\n",
        "    doy_col = ee.ImageCollection.fromImages(feature.get('doy_matches'))\n",
        "    return doy_col.median()\n",
        "\n",
        "median_col = ee.ImageCollection(join_col.map(median_composite))"
      ],
      "metadata": {
        "id": "xr0tyP835Jl7"
      },
      "execution_count": 16,
      "outputs": []
    },
    {
      "cell_type": "markdown",
      "source": [
        "Let's see what the animation looks like now"
      ],
      "metadata": {
        "id": "jn63JA2x6eYB"
      }
    },
    {
      "cell_type": "code",
      "source": [
        "Image(url=median_col.getVideoThumbURL({\n",
        "    'dimensions': 500,\n",
        "    'region': ee.Geometry.BBox(-18.7, -36.2, 52.2, 38.1),\n",
        "    'min': 0,\n",
        "    'max': 9000,\n",
        "    'palette': [\n",
        "        'FFFFFF', 'CE7E45', 'DF923D', 'F1B555', 'FCD163', '99B718', '74A901',\n",
        "        '66A000', '529400', '3E8601', '207401', '056201', '004C00', '023B01',\n",
        "        '012E01', '011D01', '011301'\n",
        "    ],\n",
        "    'crs': 'EPSG:4087',\n",
        "    'framesPerSecond': 12\n",
        "}))"
      ],
      "metadata": {
        "id": "myfZEeSf6EKL",
        "outputId": "18401dae-385d-463d-fd19-f4409eb83bc7",
        "colab": {
          "base_uri": "https://localhost:8080/",
          "height": 521
        }
      },
      "execution_count": 17,
      "outputs": [
        {
          "output_type": "execute_result",
          "data": {
            "text/html": [
              "<img src=\"https://earthengine.googleapis.com/v1/projects/earthengine-legacy/videoThumbnails/05ad431a81d1373aa62f7888a59f9f65-bc718a23164f21b3611988cfe9caf5e2:getPixels\"/>"
            ],
            "text/plain": [
              "<IPython.core.display.Image object>"
            ]
          },
          "metadata": {},
          "execution_count": 17
        }
      ]
    },
    {
      "cell_type": "markdown",
      "source": [
        "Smoooooth! Looking good, but I think adding hillshade will add some character"
      ],
      "metadata": {
        "id": "bv8BaKkr6jm3"
      }
    },
    {
      "cell_type": "code",
      "source": [
        "hillshade = ee.Terrain.hillshade(ee.Image('MERIT/DEM/v1_0_3').multiply(50))\n",
        "\n",
        "ndvi_vis = {\n",
        "    'min': 0,\n",
        "    'max': 9000,\n",
        "    'palette': [\n",
        "        'FFFFFF', 'CE7E45', 'DF923D', 'F1B555', 'FCD163', '99B718', '74A901',\n",
        "        '66A000', '529400', '3E8601', '207401', '056201', '004C00', '023B01',\n",
        "        '012E01', '011D01', '011301'\n",
        "    ],\n",
        "    'opacity': 0.7\n",
        "}\n",
        "\n",
        "def add_hillshade(img):\n",
        "    return hillshade.blend(img.visualize(**ndvi_vis))\n",
        "\n",
        "vis_col = median_col.map(add_hillshade)\n",
        "\n",
        "Image(url=vis_col.getVideoThumbURL({\n",
        "    'dimensions': 500,\n",
        "    'region': ee.Geometry.BBox(-18.7, -36.2, 52.2, 38.1),\n",
        "    'crs': 'EPSG:4087',\n",
        "    'framesPerSecond': 12\n",
        "}))"
      ],
      "metadata": {
        "id": "OtRk5nk37NJg",
        "outputId": "9c9dcd07-760a-4220-9aaa-2e305ed17f6d",
        "colab": {
          "base_uri": "https://localhost:8080/",
          "height": 521
        }
      },
      "execution_count": 18,
      "outputs": [
        {
          "output_type": "execute_result",
          "data": {
            "text/html": [
              "<img src=\"https://earthengine.googleapis.com/v1/projects/earthengine-legacy/videoThumbnails/3d8bbe20854405db8afa4cb3f37ac9d8-0512846befd36bf55c3f02b2e04e6e74:getPixels\"/>"
            ],
            "text/plain": [
              "<IPython.core.display.Image object>"
            ]
          },
          "metadata": {},
          "execution_count": 18
        }
      ]
    }
  ]
}